{
 "cells": [
  {
   "cell_type": "code",
   "execution_count": 1,
   "metadata": {
    "collapsed": true
   },
   "outputs": [],
   "source": [
    "import jax\n",
    "import jax.numpy as jnp\n",
    "import numpy as np\n",
    "from jax import jacfwd"
   ]
  },
  {
   "cell_type": "code",
   "execution_count": 2,
   "outputs": [],
   "source": [
    "from src.two_step_richtmyer_util import Dimension"
   ],
   "metadata": {
    "collapsed": false
   }
  },
  {
   "cell_type": "code",
   "execution_count": 3,
   "outputs": [],
   "source": [
    "dim = Dimension.twoD"
   ],
   "metadata": {
    "collapsed": false
   }
  },
  {
   "cell_type": "code",
   "execution_count": 4,
   "outputs": [],
   "source": [
    "def pbc(grid: np.ndarray, dim: Dimension):\n",
    "    # x dimension\n",
    "    grid = grid.at[0, ...].set(grid[-2, ...])\n",
    "    grid = grid.at[-1, ...].set(grid[1, ...])\n",
    "    # y dimension\n",
    "    grid = grid.at[:, 0, ...].set(grid[:, -2, ...])\n",
    "    grid = grid.at[:, -1, ...].set(grid[:, 1, ...])\n",
    "    return grid\n"
   ],
   "metadata": {
    "collapsed": false
   }
  },
  {
   "cell_type": "code",
   "execution_count": 5,
   "outputs": [],
   "source": [
    "def pde(v):\n",
    "    gamma = 5/3\n",
    "    def pres(v):\n",
    "        dens = v[..., 0]\n",
    "        Etot = v[..., -1]\n",
    "        Ekin = 0.5 * jnp.sum(v[..., 1:dim.value + 1] ** 2, axis=-1) / dens\n",
    "        eint = Etot - Ekin\n",
    "        return eint * (gamma - 1.)\n",
    "    p = pres(v)\n",
    "    dens = v[..., 0]\n",
    "    vels = v[..., 1:dim.value + 1] / dens[..., jnp.newaxis]\n",
    "    Etot = v[..., -1]\n",
    "    result = jnp.empty((*v.shape, dim.value))\n",
    "\n",
    "    result = result.at[..., 0, :].set(v[..., 1:dim.value + 1])\n",
    "    result = result.at[..., 1:dim.value + 1, :].set(jnp.einsum(\"...i,...j->...ij\", v[..., 1:dim.value + 1], vels) \\\n",
    "                                         + jnp.einsum(\"...i,jk->...ijk\", p, jnp.identity(dim.value)))\n",
    "    result = result.at[..., -1, :].set(jnp.einsum(\"...,...i->...i\", Etot + p, vels))\n",
    "\n",
    "    return tuple(result[..., i] for i in range(dim.value))"
   ],
   "metadata": {
    "collapsed": false
   }
  },
  {
   "cell_type": "code",
   "execution_count": 6,
   "outputs": [],
   "source": [
    "def waves(k, w0, amp, alpha=None):\n",
    "    gamma = 5/3\n",
    "    def primitive_to_conserved(w):\n",
    "        dens = w[..., 0]\n",
    "        v = w[..., 1:dim.value + 1]\n",
    "        p = w[..., -1]\n",
    "        conserved_w = np.empty(w.shape)\n",
    "        conserved_w[..., 0] = dens\n",
    "        for i in range(dim.value):\n",
    "            conserved_w[..., i + 1] = dens * v[..., i]\n",
    "        conserved_w[..., -1] = p / (gamma - 1) + 0.5 * dens * np.sum(v ** 2, axis=-1)\n",
    "        return conserved_w\n",
    "    dens = w0[0]\n",
    "    v = w0[1]\n",
    "    p = w0[2]\n",
    "    # conserved_w = np.array([dens, dens * v, p / (self.gamma - 1) + dens / 2 * v ** 2])\n",
    "    a = np.sqrt(gamma * p / dens)\n",
    "    eigen_vectors = np.array([[2, dens / a, -dens / a],\n",
    "                              [0, 1, 1],\n",
    "                              [0, dens * a, -dens * a]]) / 2\n",
    "    eigen_vals = np.array([v, v + a, v - a])\n",
    "\n",
    "    cos_alpha = np.cos(alpha)\n",
    "    Rinv = np.array([[cos_alpha, np.sin(alpha)],\n",
    "                     [-np.sin(alpha), cos_alpha]])\n",
    "    R = np.array([[cos_alpha, -np.sin(alpha)],\n",
    "                  [np.sin(alpha), cos_alpha]])\n",
    "\n",
    "    def wave(x, t=0):\n",
    "        \"\"\"x needs to be normalized to [0, 1]\"\"\"\n",
    "        rotx = x @ R\n",
    "        # NOTE: whole input * 2 * cos_alpha in case of pi/4\n",
    "        w = w0 + amp * np.einsum(\"i,...j->...ji\", eigen_vectors[:, k],\n",
    "                                 np.sin(2 * np.pi * (rotx[..., 0] - eigen_vals[k] * t)))\n",
    "        # first rotate then transform\n",
    "        vxy = np.zeros((*w.shape[:-1], dim.value))\n",
    "        vxy[..., 0] = w[..., 1]\n",
    "        rotv = vxy @ Rinv\n",
    "\n",
    "        w2d = np.empty((*w.shape[:-1], 4))\n",
    "        w2d[..., 0] = w[..., 0]\n",
    "        w2d[..., 1:dim.value + 1] = rotv\n",
    "        w2d[..., 3] = w[..., 2]\n",
    "        return primitive_to_conserved(w2d)\n",
    "\n",
    "    return wave"
   ],
   "metadata": {
    "collapsed": false
   }
  },
  {
   "cell_type": "code",
   "execution_count": 41,
   "outputs": [
    {
     "name": "stdout",
     "output_type": "stream",
     "text": [
      "[1.000342  1.000342  0.        2.000171  1.000342  1.000342  0.\n",
      " 2.000171  1.000342  1.000342  0.        2.000171  1.000342  1.000342\n",
      " 0.        2.000171  1.000342  1.000342  0.        2.000171  1.000342\n",
      " 1.000342  0.        2.000171  1.000342  1.000342  0.        2.000171\n",
      " 1.000342  1.000342  0.        2.000171  1.000342  1.000342  0.\n",
      " 2.000171  1.000866  1.000866  0.        2.000433  1.000866  1.000866\n",
      " 0.        2.000433  1.000866  1.000866  0.        2.000433  1.000866\n",
      " 1.000866  0.        2.000433  1.000866  1.000866  0.        2.000433\n",
      " 1.000866  1.000866  0.        2.000433  1.000866  1.000866  0.\n",
      " 2.000433  1.000866  1.000866  0.        2.000433  1.000866  1.000866\n",
      " 0.        2.000433  1.0009848 1.0009848 0.        2.0004923 1.0009848\n",
      " 1.0009848 0.        2.0004923 1.0009848 1.0009848 0.        2.0004923\n",
      " 1.0009848 1.0009848 0.        2.0004923 1.0009848 1.0009848 0.\n",
      " 2.0004923 1.0009848 1.0009848 0.        2.0004923 1.0009848 1.0009848\n",
      " 0.        2.0004923 1.0009848 1.0009848 0.        2.0004923 1.0009848\n",
      " 1.0009848 0.        2.0004923 1.0006428 1.0006428 0.        2.0003214\n",
      " 1.0006428 1.0006428 0.        2.0003214 1.0006428 1.0006428 0.\n",
      " 2.0003214 1.0006428 1.0006428 0.        2.0003214 1.0006428 1.0006428\n",
      " 0.        2.0003214 1.0006428 1.0006428 0.        2.0003214 1.0006428\n",
      " 1.0006428 0.        2.0003214 1.0006428 1.0006428 0.        2.0003214\n",
      " 1.0006428 1.0006428 0.        2.0003214 1.        1.        0.\n",
      " 2.        1.        1.        0.        2.        1.        1.\n",
      " 0.        2.        1.        1.        0.        2.        1.\n",
      " 1.        0.        2.        1.        1.        0.        2.\n",
      " 1.        1.        0.        2.        1.        1.        0.\n",
      " 2.        1.        1.        0.        2.        0.9993572 0.9993572\n",
      " 0.        1.9996786 0.9993572 0.9993572 0.        1.9996786 0.9993572\n",
      " 0.9993572 0.        1.9996786 0.9993572 0.9993572 0.        1.9996786\n",
      " 0.9993572 0.9993572 0.        1.9996786 0.9993572 0.9993572 0.\n",
      " 1.9996786 0.9993572 0.9993572 0.        1.9996786 0.9993572 0.9993572\n",
      " 0.        1.9996786 0.9993572 0.9993572 0.        1.9996786 0.9990152\n",
      " 0.9990152 0.        1.9995075 0.9990152 0.9990152 0.        1.9995075\n",
      " 0.9990152 0.9990152 0.        1.9995075 0.9990152 0.9990152 0.\n",
      " 1.9995075 0.9990152 0.9990152 0.        1.9995075 0.9990152 0.9990152\n",
      " 0.        1.9995075 0.9990152 0.9990152 0.        1.9995075 0.9990152\n",
      " 0.9990152 0.        1.9995075 0.9990152 0.9990152 0.        1.9995075\n",
      " 0.999134  0.999134  0.        1.999567  0.999134  0.999134  0.\n",
      " 1.999567  0.999134  0.999134  0.        1.999567  0.999134  0.999134\n",
      " 0.        1.999567  0.999134  0.999134  0.        1.999567  0.999134\n",
      " 0.999134  0.        1.999567  0.999134  0.999134  0.        1.999567\n",
      " 0.999134  0.999134  0.        1.999567  0.999134  0.999134  0.\n",
      " 1.999567  0.999658  0.999658  0.        1.9998289 0.999658  0.999658\n",
      " 0.        1.9998289 0.999658  0.999658  0.        1.9998289 0.999658\n",
      " 0.999658  0.        1.9998289 0.999658  0.999658  0.        1.9998289\n",
      " 0.999658  0.999658  0.        1.9998289 0.999658  0.999658  0.\n",
      " 1.9998289 0.999658  0.999658  0.        1.9998289 0.999658  0.999658\n",
      " 0.        1.9998289]\n"
     ]
    }
   ],
   "source": [
    "N = 10\n",
    "\n",
    "coords = [np.linspace(0, 1, N) for _ in range(2)]\n",
    "avg_coords = [0.5 * (coord[1:] + coord[:-1]) for coord in coords]\n",
    "XYZ = np.stack(np.meshgrid(*avg_coords, indexing='ij'), axis=-1)\n",
    "grid_old = jnp.empty((N+1, N+1, 4))\n",
    "grid_old = grid_old.at[1:-1, 1:-1].set(waves(0, np.array([1, 1, 1]), amp=1e-3, alpha=0)(XYZ))\n",
    "grid_old = pbc(grid_old, dim=dim)\n",
    "print(grid_old[1:-1, 1:-1].ravel())"
   ],
   "metadata": {
    "collapsed": false
   }
  },
  {
   "cell_type": "code",
   "execution_count": 8,
   "outputs": [],
   "source": [
    "def del_x(grid_vals: np.ndarray) -> np.ndarray:\n",
    "    return (grid_vals[2:, ...] - grid_vals[:-2, ...]) / 2\n",
    "\n",
    "def del_y(grid_vals: np.ndarray) -> np.ndarray:\n",
    "    return (grid_vals[:, 2:, ...] - grid_vals[:, :-2, ...]) / 2\n",
    "\n",
    "def avg_x(grid_vals: np.ndarray) -> np.ndarray:\n",
    "    return grid_vals[1:-1, ...]\n",
    "    # return (grid_vals[2:, ...] + grid_vals[1:-1, ...] + grid_vals[:-2, ...]) / 4\n",
    "\n",
    "def avg_y(grid_vals: np.ndarray) -> np.ndarray:\n",
    "    return grid_vals[:, 1:-1, ...]\n",
    "    # return (grid_vals[:, 2:, ...] + grid_vals[:, 1:-1, ...] + grid_vals[:, :-2, ...]) / 4"
   ],
   "metadata": {
    "collapsed": false
   }
  },
  {
   "cell_type": "code",
   "execution_count": 34,
   "outputs": [],
   "source": [
    "def F(v):\n",
    "    c = 0.7271309652455544 * np.array([3, 3])\n",
    "    grid = jnp.empty((N+1, N+1, 4))\n",
    "    grid = grid.at[1:-1, 1:-1].set(jnp.reshape(v, (N-1, N-1, 4)))\n",
    "    grid = pbc(grid, dim=Dimension.twoD)\n",
    "    avg_t = 0.5 * (grid + grid_old)\n",
    "    fluxes = pde(avg_t)\n",
    "    return jnp.ravel(grid[1:-1, 1:-1] - grid_old[1:-1, 1:-1] + c[0] * del_x(avg_y(fluxes[0]))\n",
    "            + c[1] * del_y(avg_x(fluxes[1])))"
   ],
   "metadata": {
    "collapsed": false
   }
  },
  {
   "cell_type": "code",
   "execution_count": 43,
   "outputs": [],
   "source": [
    "J = jacfwd(F)(grid_old[1:-1, 1:-1])\n"
   ],
   "metadata": {
    "collapsed": false
   }
  },
  {
   "cell_type": "code",
   "execution_count": 36,
   "outputs": [
    {
     "data": {
      "text/plain": "(1444, 19, 19, 4)"
     },
     "execution_count": 36,
     "metadata": {},
     "output_type": "execute_result"
    }
   ],
   "source": [
    "np.array(J).shape"
   ],
   "metadata": {
    "collapsed": false
   }
  },
  {
   "cell_type": "code",
   "execution_count": 26,
   "outputs": [],
   "source": [
    "np.savetxt('jac.csv', J.reshape((N-1)**2*4, (N-1)**2*4), delimiter=',',fmt='%3.0f')"
   ],
   "metadata": {
    "collapsed": false
   }
  },
  {
   "cell_type": "code",
   "execution_count": 69,
   "outputs": [],
   "source": [
    "import jax"
   ],
   "metadata": {
    "collapsed": false
   }
  },
  {
   "cell_type": "code",
   "execution_count": 31,
   "outputs": [
    {
     "data": {
      "text/plain": "Array(-1.6374087, dtype=float32)"
     },
     "execution_count": 31,
     "metadata": {},
     "output_type": "execute_result"
    }
   ],
   "source": [
    "jnp.min(J)"
   ],
   "metadata": {
    "collapsed": false
   }
  },
  {
   "cell_type": "code",
   "execution_count": 107,
   "outputs": [
    {
     "data": {
      "text/plain": "Array([ 0.00094454,  0.00094447,  0.        ,  0.00047224,  0.00094454,\n        0.00094447,  0.        ,  0.00047224,  0.00094454,  0.00094447,\n        0.        ,  0.00047224, -0.00188914, -0.00188895,  0.        ,\n       -0.00094447, -0.00188914, -0.00188895,  0.        , -0.00094447,\n       -0.00188914, -0.00188895,  0.        , -0.00094447,  0.0009446 ,\n        0.00094447,  0.        ,  0.00047224,  0.0009446 ,  0.00094447,\n        0.        ,  0.00047224,  0.0009446 ,  0.00094447,  0.        ,\n        0.00047224], dtype=float32)"
     },
     "execution_count": 107,
     "metadata": {},
     "output_type": "execute_result"
    }
   ],
   "source": [
    "F(grid_old[1:-1, 1:-1].ravel())"
   ],
   "metadata": {
    "collapsed": false
   }
  },
  {
   "cell_type": "code",
   "execution_count": 132,
   "outputs": [],
   "source": [
    "import matplotlib.pyplot as plt\n",
    "import matplotlib as mpl\n",
    "cmap = mpl.colors.LinearSegmentedColormap.from_list(\"\", [\"white\",\"darkmagenta\"])\n",
    "plt.rcParams['text.usetex'] = True\n",
    "import numpy as np\n"
   ],
   "metadata": {
    "collapsed": false
   }
  },
  {
   "cell_type": "code",
   "execution_count": 122,
   "outputs": [],
   "source": [
    "# J_manual = np.loadtxt(\"src/jac_manual.csv\", delimiter=\",\")"
   ],
   "metadata": {
    "collapsed": false
   }
  },
  {
   "cell_type": "code",
   "execution_count": 141,
   "outputs": [
    {
     "data": {
      "text/plain": "<Figure size 640x480 with 1 Axes>",
      "image/png": "[encoded data removed]"
     },
     "metadata": {},
     "output_type": "display_data"
    }
   ],
   "source": [
    "maxabs = max(jnp.max(J), -jnp.min(J))\n",
    "fig, ax = plt.subplots()\n",
    "ax.grid(color='lightgray', linestyle='dashed')\n",
    "# X, Y = np.meshgrid(range((N-1)**2*4), range((N-1)**2*4))\n",
    "# plt.scatter(X, Y, J.reshape((N-1)**2*4, (N-1)**2*4))\n",
    "im = plt.spy(J.reshape((N-1)**2*4, (N-1)**2*4), color=\"darkmagenta\", markersize=0.1)# vmin=0, vmax=1, cmap=cmap)\n",
    "# ax2.imshow(J_manual)\n",
    "plt.yticks([i for i in range(0, (N-1)**2*4+1, (N-1)*4)])\n",
    "plt.xticks([i for i in range(0, (N-1)**2*4+1, (N-1)*4)])\n",
    "# ax1.yaxis.grid(True, which='minor')\n",
    "# ax1.xaxis.grid(True, which='minor')\n",
    "\n",
    "plt.title(r\"$D_{u^{n+1}}\\mathbf{F}$\")\n",
    "# fig.colorbar(im)\n",
    "# ax2.set_yticks([i - 0.5 for i in range(0, 36, 4)], minor='True')\n",
    "# ax2.set_xticks([i - 0.5 for i in range(0, 36, 4)], minor='True')\n",
    "# ax2.yaxis.grid(True, which='minor')\n",
    "# ax2.xaxis.grid(True, which='minor')\n",
    "# ax2.set_title(\"manual\")\n",
    "plt.savefig(\"ims/DF.pdf\", dpi=400)"
   ],
   "metadata": {
    "collapsed": false
   }
  },
  {
   "cell_type": "code",
   "execution_count": 140,
   "outputs": [
    {
     "data": {
      "text/plain": "<matplotlib.image.AxesImage at 0x7f567dd46920>"
     },
     "execution_count": 140,
     "metadata": {},
     "output_type": "execute_result"
    },
    {
     "data": {
      "text/plain": "<Figure size 640x480 with 1 Axes>",
      "image/png": "[encoded data removed]"
     },
     "metadata": {},
     "output_type": "display_data"
    }
   ],
   "source": [
    "plt.imshow(J.reshape(36, 36) * 100 - J_manual)"
   ],
   "metadata": {
    "collapsed": false
   }
  },
  {
   "cell_type": "code",
   "execution_count": null,
   "outputs": [],
   "source": [],
   "metadata": {
    "collapsed": false
   }
  }
 ],
 "metadata": {
  "kernelspec": {
   "display_name": "Python 3",
   "language": "python",
   "name": "python3"
  },
  "language_info": {
   "codemirror_mode": {
    "name": "ipython",
    "version": 2
   },
   "file_extension": ".py",
   "mimetype": "text/x-python",
   "name": "python",
   "nbconvert_exporter": "python",
   "pygments_lexer": "ipython2",
   "version": "2.7.6"
  }
 },
 "nbformat": 4,
 "nbformat_minor": 0
}
